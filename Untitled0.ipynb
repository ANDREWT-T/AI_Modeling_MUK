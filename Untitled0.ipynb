{
  "nbformat": 4,
  "nbformat_minor": 0,
  "metadata": {
    "colab": {
      "provenance": [],
      "authorship_tag": "ABX9TyOfMWIMP8cJQK+AZLlkqoAX",
      "include_colab_link": true
    },
    "kernelspec": {
      "name": "python3",
      "display_name": "Python 3"
    },
    "language_info": {
      "name": "python"
    }
  },
  "cells": [
    {
      "cell_type": "markdown",
      "metadata": {
        "id": "view-in-github",
        "colab_type": "text"
      },
      "source": [
        "<a href=\"https://colab.research.google.com/github/ANDREWT-T/AI_Modeling_MUK/blob/main/Untitled0.ipynb\" target=\"_parent\"><img src=\"https://colab.research.google.com/assets/colab-badge.svg\" alt=\"Open In Colab\"/></a>"
      ]
    },
    {
      "cell_type": "code",
      "source": [
        "import math\n",
        "# Prompt user to choose a shape\n",
        "print(\"Choose a shape: 'S' for square, 'R' for rectangle, and 'C' for circle\")\n",
        "shape = input(\"Shape: \")\n",
        "shape == \"R\"\n",
        "    # Define length\n",
        "    length=8\n",
        "    # define width\n",
        "    width=4\n",
        "    area = length * width\n",
        "    print(\"The area of the rectangle is:\", area, \"cm^2\")"
      ],
      "metadata": {
        "colab": {
          "base_uri": "https://localhost:8080/",
          "height": 130
        },
        "id": "M6TGh7FhfNiR",
        "outputId": "6300187e-37bf-4eaf-b065-2df857933641"
      },
      "execution_count": null,
      "outputs": [
        {
          "output_type": "error",
          "ename": "IndentationError",
          "evalue": "ignored",
          "traceback": [
            "\u001b[0;36m  File \u001b[0;32m\"<ipython-input-25-3c25066590cc>\"\u001b[0;36m, line \u001b[0;32m7\u001b[0m\n\u001b[0;31m    length=8\u001b[0m\n\u001b[0m    ^\u001b[0m\n\u001b[0;31mIndentationError\u001b[0m\u001b[0;31m:\u001b[0m unexpected indent\n"
          ]
        }
      ]
    },
    {
      "cell_type": "code",
      "source": [
        "import math\n",
        "\n",
        "# Prompt user to choose a shape\n",
        "print(\"Choose a shape: 'S' for square, 'R' for rectangle, and 'C' for circle\")\n",
        "shape = input(\"Shape: \")\n",
        "shape == \"R\"\n",
        "# Calculate area based on user's choice of shape\n",
        "length = float(input(\"Enter the length of the rectangle: \"))\n",
        "width = float(input(\"Enter the width of the rectangle\"))\n",
        "area = length * width\n",
        "print(\"The area of the rectangle is:\", area, \"cm^2\")"
      ],
      "metadata": {
        "colab": {
          "base_uri": "https://localhost:8080/"
        },
        "id": "MDBl3keEJlTM",
        "outputId": "b9a02724-f8d0-4186-af57-1ab9068a73f1"
      },
      "execution_count": 30,
      "outputs": [
        {
          "output_type": "stream",
          "name": "stdout",
          "text": [
            "Choose a shape: 'S' for square, 'R' for rectangle, and 'C' for circle\n",
            "Shape: R\n",
            "Enter the length of the rectangle: 8\n",
            "Enter the width of the rectangle4\n",
            "The area of the rectangle is: 32.0 cm^2\n"
          ]
        }
      ]
    }
  ]
}